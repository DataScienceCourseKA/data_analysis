{
 "cells": [
  {
   "cell_type": "code",
   "execution_count": 4,
   "id": "a9db551d-2b66-449e-8430-5a286c13e2a1",
   "metadata": {},
   "outputs": [],
   "source": [
    "import pandas as pd"
   ]
  },
  {
   "cell_type": "raw",
   "id": "f6e3de5a-d7a0-4227-8fcc-ea30fe83e92d",
   "metadata": {},
   "source": [
    "# Reading Csv Files"
   ]
  },
  {
   "cell_type": "code",
   "execution_count": 5,
   "id": "5ba24558-b102-42e2-b4fd-0690f432cc2d",
   "metadata": {},
   "outputs": [],
   "source": [
    "df = pd.read_csv('data.csv')"
   ]
  },
  {
   "cell_type": "code",
   "execution_count": 6,
   "id": "b03e4bb8-579b-4296-a21b-8e67f7bdaf96",
   "metadata": {},
   "outputs": [
    {
     "name": "stdout",
     "output_type": "stream",
     "text": [
      "    name  age  score        date\n",
      "0  Alice   25   88.5  2025-02-03\n",
      "1    Bob   30   92.0         NaN\n",
      "2  Carol   27   79.5         NaN\n"
     ]
    }
   ],
   "source": [
    "print(df)"
   ]
  },
  {
   "cell_type": "code",
   "execution_count": 7,
   "id": "a861dbf7-7866-4158-991d-9c4ab14bd1fc",
   "metadata": {},
   "outputs": [],
   "source": [
    "df = pd.read_csv('data.csv', index_col=0)"
   ]
  },
  {
   "cell_type": "code",
   "execution_count": 8,
   "id": "522b95cd-a43b-48c5-925b-ba7d9796cfc6",
   "metadata": {},
   "outputs": [
    {
     "name": "stdout",
     "output_type": "stream",
     "text": [
      "       age  score        date\n",
      "name                         \n",
      "Alice   25   88.5  2025-02-03\n",
      "Bob     30   92.0         NaN\n",
      "Carol   27   79.5         NaN\n"
     ]
    }
   ],
   "source": [
    "print(df)"
   ]
  },
  {
   "cell_type": "code",
   "execution_count": 9,
   "id": "ef328f8d-cad8-4cf4-a703-fcc570b662de",
   "metadata": {},
   "outputs": [],
   "source": [
    "df = pd.read_csv('data.csv', parse_dates=['date'])"
   ]
  },
  {
   "cell_type": "code",
   "execution_count": 10,
   "id": "ad5eab3a-2f68-4840-99e7-15419effc807",
   "metadata": {},
   "outputs": [
    {
     "name": "stdout",
     "output_type": "stream",
     "text": [
      "0   2025-02-03\n",
      "1          NaT\n",
      "2          NaT\n",
      "Name: date, dtype: datetime64[ns]\n"
     ]
    }
   ],
   "source": [
    "print(df['date'])"
   ]
  },
  {
   "cell_type": "code",
   "execution_count": 13,
   "id": "f835fb27-e4e2-43b3-9fb6-33e00d70bc7f",
   "metadata": {},
   "outputs": [],
   "source": [
    "df4 = pd.read_csv('data.csv')"
   ]
  },
  {
   "cell_type": "code",
   "execution_count": 14,
   "id": "99b55b62-e284-4ab1-b449-3c0d499930c0",
   "metadata": {},
   "outputs": [
    {
     "name": "stdout",
     "output_type": "stream",
     "text": [
      "    name  age  score        date\n",
      "0  Alice   25   88.5  2025-02-03\n",
      "1    Bob   30   92.0         NaN\n",
      "2  Carol   27   79.5         NaN\n"
     ]
    }
   ],
   "source": [
    "print(df4)"
   ]
  },
  {
   "cell_type": "code",
   "execution_count": 15,
   "id": "88f7a444-2957-484e-839d-ce29782643b2",
   "metadata": {},
   "outputs": [],
   "source": [
    "df4.to_csv(\"output.csv\")"
   ]
  },
  {
   "cell_type": "code",
   "execution_count": 16,
   "id": "7eb623b4-fd1b-442e-b323-bbe80428e77b",
   "metadata": {},
   "outputs": [
    {
     "name": "stdout",
     "output_type": "stream",
     "text": [
      "    name  age  score        date\n",
      "0  Alice   25   88.5  2025-02-03\n",
      "1    Bob   30   92.0         NaN\n",
      "2  Carol   27   79.5         NaN\n"
     ]
    }
   ],
   "source": [
    "print(df4)"
   ]
  },
  {
   "cell_type": "code",
   "execution_count": 21,
   "id": "a368e50d-33df-420c-8980-cb63f69dc9a9",
   "metadata": {},
   "outputs": [],
   "source": [
    "df4.to_csv(\"scores_only.csv\", columns=['name', 'score'], index=False)"
   ]
  },
  {
   "cell_type": "code",
   "execution_count": 22,
   "id": "04ded4c4-0b28-4864-8d9a-5043df04b6c8",
   "metadata": {},
   "outputs": [
    {
     "data": {
      "text/html": [
       "<div>\n",
       "<style scoped>\n",
       "    .dataframe tbody tr th:only-of-type {\n",
       "        vertical-align: middle;\n",
       "    }\n",
       "\n",
       "    .dataframe tbody tr th {\n",
       "        vertical-align: top;\n",
       "    }\n",
       "\n",
       "    .dataframe thead th {\n",
       "        text-align: right;\n",
       "    }\n",
       "</style>\n",
       "<table border=\"1\" class=\"dataframe\">\n",
       "  <thead>\n",
       "    <tr style=\"text-align: right;\">\n",
       "      <th></th>\n",
       "      <th>name</th>\n",
       "      <th>score</th>\n",
       "    </tr>\n",
       "  </thead>\n",
       "  <tbody>\n",
       "    <tr>\n",
       "      <th>0</th>\n",
       "      <td>Alice</td>\n",
       "      <td>88.5</td>\n",
       "    </tr>\n",
       "    <tr>\n",
       "      <th>1</th>\n",
       "      <td>Bob</td>\n",
       "      <td>92.0</td>\n",
       "    </tr>\n",
       "    <tr>\n",
       "      <th>2</th>\n",
       "      <td>Carol</td>\n",
       "      <td>79.5</td>\n",
       "    </tr>\n",
       "  </tbody>\n",
       "</table>\n",
       "</div>"
      ],
      "text/plain": [
       "    name  score\n",
       "0  Alice   88.5\n",
       "1    Bob   92.0\n",
       "2  Carol   79.5"
      ]
     },
     "execution_count": 22,
     "metadata": {},
     "output_type": "execute_result"
    }
   ],
   "source": [
    "pd.read_csv('scores_only.csv')"
   ]
  },
  {
   "cell_type": "code",
   "execution_count": null,
   "id": "e2c9c155-f758-4349-8ab2-f37070aed256",
   "metadata": {},
   "outputs": [],
   "source": []
  }
 ],
 "metadata": {
  "kernelspec": {
   "display_name": "Python 3 (ipykernel)",
   "language": "python",
   "name": "python3"
  },
  "language_info": {
   "codemirror_mode": {
    "name": "ipython",
    "version": 3
   },
   "file_extension": ".py",
   "mimetype": "text/x-python",
   "name": "python",
   "nbconvert_exporter": "python",
   "pygments_lexer": "ipython3",
   "version": "3.13.1"
  }
 },
 "nbformat": 4,
 "nbformat_minor": 5
}
