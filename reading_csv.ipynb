{
 "cells": [
  {
   "cell_type": "code",
   "execution_count": 26,
   "id": "a9db551d-2b66-449e-8430-5a286c13e2a1",
   "metadata": {},
   "outputs": [],
   "source": [
    "import pandas as pd"
   ]
  },
  {
   "cell_type": "raw",
   "id": "f6e3de5a-d7a0-4227-8fcc-ea30fe83e92d",
   "metadata": {},
   "source": [
    "# Reading Csv Files"
   ]
  },
  {
   "cell_type": "code",
   "execution_count": 27,
   "id": "5ba24558-b102-42e2-b4fd-0690f432cc2d",
   "metadata": {},
   "outputs": [],
   "source": [
    "df = pd.read_csv('data.csv')"
   ]
  },
  {
   "cell_type": "code",
   "execution_count": 28,
   "id": "b03e4bb8-579b-4296-a21b-8e67f7bdaf96",
   "metadata": {},
   "outputs": [
    {
     "name": "stdout",
     "output_type": "stream",
     "text": [
      "    name  age  score        date\n",
      "0  Alice   25   88.5  2025-02-03\n",
      "1    Bob   30   92.0         NaN\n",
      "2  Carol   27   79.5         NaN\n"
     ]
    }
   ],
   "source": [
    "print(df)"
   ]
  },
  {
   "cell_type": "code",
   "execution_count": 29,
   "id": "a861dbf7-7866-4158-991d-9c4ab14bd1fc",
   "metadata": {},
   "outputs": [],
   "source": [
    "df = pd.read_csv('data.csv', index_col=0)"
   ]
  },
  {
   "cell_type": "code",
   "execution_count": 30,
   "id": "522b95cd-a43b-48c5-925b-ba7d9796cfc6",
   "metadata": {},
   "outputs": [
    {
     "name": "stdout",
     "output_type": "stream",
     "text": [
      "       age  score        date\n",
      "name                         \n",
      "Alice   25   88.5  2025-02-03\n",
      "Bob     30   92.0         NaN\n",
      "Carol   27   79.5         NaN\n"
     ]
    }
   ],
   "source": [
    "print(df)"
   ]
  },
  {
   "cell_type": "code",
   "execution_count": 31,
   "id": "ef328f8d-cad8-4cf4-a703-fcc570b662de",
   "metadata": {},
   "outputs": [],
   "source": [
    "df = pd.read_csv('data.csv', parse_dates=['date'])"
   ]
  },
  {
   "cell_type": "code",
   "execution_count": 32,
   "id": "ad5eab3a-2f68-4840-99e7-15419effc807",
   "metadata": {},
   "outputs": [
    {
     "name": "stdout",
     "output_type": "stream",
     "text": [
      "0   2025-02-03\n",
      "1          NaT\n",
      "2          NaT\n",
      "Name: date, dtype: datetime64[ns]\n"
     ]
    }
   ],
   "source": [
    "print(df['date'])"
   ]
  },
  {
   "cell_type": "code",
   "execution_count": 33,
   "id": "f835fb27-e4e2-43b3-9fb6-33e00d70bc7f",
   "metadata": {},
   "outputs": [],
   "source": [
    "df4 = pd.read_csv('data.csv', sep=\"\\t\")"
   ]
  },
  {
   "cell_type": "code",
   "execution_count": 34,
   "id": "99b55b62-e284-4ab1-b449-3c0d499930c0",
   "metadata": {},
   "outputs": [
    {
     "name": "stdout",
     "output_type": "stream",
     "text": [
      "    name  age  score       date\n",
      "0  Alice   25   88.5 2025-02-03\n",
      "1    Bob   30   92.0        NaT\n",
      "2  Carol   27   79.5        NaT\n"
     ]
    }
   ],
   "source": [
    "print(df)"
   ]
  },
  {
   "cell_type": "code",
   "execution_count": null,
   "id": "88f7a444-2957-484e-839d-ce29782643b2",
   "metadata": {},
   "outputs": [],
   "source": []
  }
 ],
 "metadata": {
  "kernelspec": {
   "display_name": "Python 3 (ipykernel)",
   "language": "python",
   "name": "python3"
  },
  "language_info": {
   "codemirror_mode": {
    "name": "ipython",
    "version": 3
   },
   "file_extension": ".py",
   "mimetype": "text/x-python",
   "name": "python",
   "nbconvert_exporter": "python",
   "pygments_lexer": "ipython3",
   "version": "3.13.1"
  }
 },
 "nbformat": 4,
 "nbformat_minor": 5
}
