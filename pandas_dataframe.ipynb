{
 "cells": [
  {
   "cell_type": "code",
   "execution_count": 14,
   "id": "2f176b7a-6b15-42ca-935f-61dfae678b82",
   "metadata": {},
   "outputs": [],
   "source": [
    "import pandas as pd"
   ]
  },
  {
   "cell_type": "code",
   "execution_count": 15,
   "id": "c931679c-b8f1-4148-97e8-0a218831f759",
   "metadata": {},
   "outputs": [],
   "source": [
    "# Dict of Lists\n",
    "df = pd.DataFrame({\n",
    "    \"city\": ['Paris', 'London', 'Berlin'],\n",
    "    \"temp_c\": [20.1, 15.2, 18.3]\n",
    "})"
   ]
  },
  {
   "cell_type": "code",
   "execution_count": 16,
   "id": "33ceee70-6845-411c-8ec5-d758a506d389",
   "metadata": {},
   "outputs": [
    {
     "name": "stdout",
     "output_type": "stream",
     "text": [
      "     city  temp_c\n",
      "0   Paris    20.1\n",
      "1  London    15.2\n",
      "2  Berlin    18.3\n"
     ]
    }
   ],
   "source": [
    "print(df)"
   ]
  },
  {
   "cell_type": "code",
   "execution_count": 22,
   "id": "eb923567-2684-4e5f-91f8-db6b9bacca85",
   "metadata": {},
   "outputs": [],
   "source": [
    "# Dict of Series\n",
    "df1 = pd.DataFrame({\n",
    "    \"A\": pd.Series([1,2,3], index=['x', 'y', 'z']),\n",
    "    \"B\": pd.Series([4,5], index=['x', 'y'])\n",
    "})"
   ]
  },
  {
   "cell_type": "code",
   "execution_count": 23,
   "id": "9810898c-7a00-4250-a6c7-5a794eec6947",
   "metadata": {},
   "outputs": [
    {
     "name": "stdout",
     "output_type": "stream",
     "text": [
      "   A    B\n",
      "x  1  4.0\n",
      "y  2  5.0\n",
      "z  3  NaN\n"
     ]
    }
   ],
   "source": [
    "print(df1)"
   ]
  },
  {
   "cell_type": "code",
   "execution_count": 30,
   "id": "151028b5-aa8b-44ba-8ea4-d38e811435ac",
   "metadata": {},
   "outputs": [],
   "source": [
    "# List of Dicts\n",
    "df3 = pd.DataFrame([\n",
    "    {\"name\": 'Alice', \"age\": 25},\n",
    "    {\"name\": 'Bob', \"age\": 30, \"score\": 92},\n",
    "    {\"name\": 'Carol', \"score\": 79},\n",
    "])"
   ]
  },
  {
   "cell_type": "code",
   "execution_count": 31,
   "id": "0b770e9d-e615-418b-9700-446da381d808",
   "metadata": {},
   "outputs": [
    {
     "name": "stdout",
     "output_type": "stream",
     "text": [
      "    name   age  score\n",
      "0  Alice  25.0    NaN\n",
      "1    Bob  30.0   92.0\n",
      "2  Carol   NaN   79.0\n"
     ]
    }
   ],
   "source": [
    "print(df3)"
   ]
  },
  {
   "cell_type": "code",
   "execution_count": 32,
   "id": "bf0f77f1-e1ee-4eb6-b1a2-99c81cfd5c91",
   "metadata": {},
   "outputs": [
    {
     "name": "stdout",
     "output_type": "stream",
     "text": [
      "(3, 2)\n"
     ]
    }
   ],
   "source": [
    "print(df1.shape)"
   ]
  },
  {
   "cell_type": "code",
   "execution_count": 33,
   "id": "b3bdba24-3fe9-4c8c-ac02-2274dcdfa710",
   "metadata": {},
   "outputs": [
    {
     "name": "stdout",
     "output_type": "stream",
     "text": [
      "Index(['A', 'B'], dtype='object')\n"
     ]
    }
   ],
   "source": [
    "print(df1.columns)"
   ]
  },
  {
   "cell_type": "code",
   "execution_count": 34,
   "id": "6c8a8ef6-0eba-4ec3-9ad6-ac334cae68d9",
   "metadata": {},
   "outputs": [
    {
     "name": "stdout",
     "output_type": "stream",
     "text": [
      "Index(['x', 'y', 'z'], dtype='object')\n"
     ]
    }
   ],
   "source": [
    "print(df1.index)"
   ]
  },
  {
   "cell_type": "code",
   "execution_count": 35,
   "id": "d81b7846-3f6d-44c5-af9c-e5d5d949ab50",
   "metadata": {},
   "outputs": [
    {
     "name": "stdout",
     "output_type": "stream",
     "text": [
      "A      int64\n",
      "B    float64\n",
      "dtype: object\n"
     ]
    }
   ],
   "source": [
    "print(df1.dtypes)"
   ]
  },
  {
   "cell_type": "code",
   "execution_count": 36,
   "id": "d0b036de-b7ae-4501-84ab-cd84b95ed139",
   "metadata": {},
   "outputs": [
    {
     "name": "stdout",
     "output_type": "stream",
     "text": [
      "   A    B\n",
      "x  1  4.0\n",
      "y  2  5.0\n"
     ]
    }
   ],
   "source": [
    "print(df1.head(2))"
   ]
  },
  {
   "cell_type": "code",
   "execution_count": 37,
   "id": "020b667b-4bd8-4abb-95d0-74318f815aec",
   "metadata": {},
   "outputs": [
    {
     "name": "stdout",
     "output_type": "stream",
     "text": [
      "   A   B\n",
      "z  3 NaN\n"
     ]
    }
   ],
   "source": [
    "print(df1.tail(1))"
   ]
  },
  {
   "cell_type": "code",
   "execution_count": 38,
   "id": "93c66a1c-1d0b-4b39-a3f8-f9b05fce82ce",
   "metadata": {},
   "outputs": [
    {
     "name": "stdout",
     "output_type": "stream",
     "text": [
      "[[ 1.  4.]\n",
      " [ 2.  5.]\n",
      " [ 3. nan]]\n"
     ]
    }
   ],
   "source": [
    "print(df1.values)"
   ]
  },
  {
   "cell_type": "code",
   "execution_count": 39,
   "id": "8bcb590c-04e1-41da-8340-0671ae1e1f90",
   "metadata": {},
   "outputs": [
    {
     "name": "stdout",
     "output_type": "stream",
     "text": [
      "     x    y    z\n",
      "A  1.0  2.0  3.0\n",
      "B  4.0  5.0  NaN\n"
     ]
    }
   ],
   "source": [
    "print(df1.T)"
   ]
  },
  {
   "cell_type": "code",
   "execution_count": 41,
   "id": "e22ee38e-c769-4f9a-b97c-5da44d3ded54",
   "metadata": {},
   "outputs": [
    {
     "name": "stdout",
     "output_type": "stream",
     "text": [
      "<class 'pandas.core.frame.DataFrame'>\n",
      "RangeIndex: 3 entries, 0 to 2\n",
      "Data columns (total 3 columns):\n",
      " #   Column  Non-Null Count  Dtype  \n",
      "---  ------  --------------  -----  \n",
      " 0   name    3 non-null      object \n",
      " 1   age     2 non-null      float64\n",
      " 2   score   2 non-null      float64\n",
      "dtypes: float64(2), object(1)\n",
      "memory usage: 204.0+ bytes\n"
     ]
    }
   ],
   "source": [
    "df3.info()"
   ]
  },
  {
   "cell_type": "code",
   "execution_count": 43,
   "id": "c15a580d-462a-4322-8cb2-a857010875a1",
   "metadata": {},
   "outputs": [
    {
     "data": {
      "text/html": [
       "<div>\n",
       "<style scoped>\n",
       "    .dataframe tbody tr th:only-of-type {\n",
       "        vertical-align: middle;\n",
       "    }\n",
       "\n",
       "    .dataframe tbody tr th {\n",
       "        vertical-align: top;\n",
       "    }\n",
       "\n",
       "    .dataframe thead th {\n",
       "        text-align: right;\n",
       "    }\n",
       "</style>\n",
       "<table border=\"1\" class=\"dataframe\">\n",
       "  <thead>\n",
       "    <tr style=\"text-align: right;\">\n",
       "      <th></th>\n",
       "      <th>age</th>\n",
       "      <th>score</th>\n",
       "    </tr>\n",
       "  </thead>\n",
       "  <tbody>\n",
       "    <tr>\n",
       "      <th>count</th>\n",
       "      <td>2.000000</td>\n",
       "      <td>2.000000</td>\n",
       "    </tr>\n",
       "    <tr>\n",
       "      <th>mean</th>\n",
       "      <td>27.500000</td>\n",
       "      <td>85.500000</td>\n",
       "    </tr>\n",
       "    <tr>\n",
       "      <th>std</th>\n",
       "      <td>3.535534</td>\n",
       "      <td>9.192388</td>\n",
       "    </tr>\n",
       "    <tr>\n",
       "      <th>min</th>\n",
       "      <td>25.000000</td>\n",
       "      <td>79.000000</td>\n",
       "    </tr>\n",
       "    <tr>\n",
       "      <th>25%</th>\n",
       "      <td>26.250000</td>\n",
       "      <td>82.250000</td>\n",
       "    </tr>\n",
       "    <tr>\n",
       "      <th>50%</th>\n",
       "      <td>27.500000</td>\n",
       "      <td>85.500000</td>\n",
       "    </tr>\n",
       "    <tr>\n",
       "      <th>75%</th>\n",
       "      <td>28.750000</td>\n",
       "      <td>88.750000</td>\n",
       "    </tr>\n",
       "    <tr>\n",
       "      <th>max</th>\n",
       "      <td>30.000000</td>\n",
       "      <td>92.000000</td>\n",
       "    </tr>\n",
       "  </tbody>\n",
       "</table>\n",
       "</div>"
      ],
      "text/plain": [
       "             age      score\n",
       "count   2.000000   2.000000\n",
       "mean   27.500000  85.500000\n",
       "std     3.535534   9.192388\n",
       "min    25.000000  79.000000\n",
       "25%    26.250000  82.250000\n",
       "50%    27.500000  85.500000\n",
       "75%    28.750000  88.750000\n",
       "max    30.000000  92.000000"
      ]
     },
     "execution_count": 43,
     "metadata": {},
     "output_type": "execute_result"
    }
   ],
   "source": [
    "df3.describe()"
   ]
  },
  {
   "cell_type": "code",
   "execution_count": null,
   "id": "b9245548-072a-407a-8c17-12e4ee69f5ab",
   "metadata": {},
   "outputs": [],
   "source": []
  }
 ],
 "metadata": {
  "kernelspec": {
   "display_name": "Python 3 (ipykernel)",
   "language": "python",
   "name": "python3"
  },
  "language_info": {
   "codemirror_mode": {
    "name": "ipython",
    "version": 3
   },
   "file_extension": ".py",
   "mimetype": "text/x-python",
   "name": "python",
   "nbconvert_exporter": "python",
   "pygments_lexer": "ipython3",
   "version": "3.13.1"
  }
 },
 "nbformat": 4,
 "nbformat_minor": 5
}
