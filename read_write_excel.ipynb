{
 "cells": [
  {
   "cell_type": "code",
   "execution_count": 1,
   "id": "07aadd57-9cfb-401e-8247-096609190b02",
   "metadata": {},
   "outputs": [],
   "source": [
    "import pandas as pd"
   ]
  },
  {
   "cell_type": "code",
   "execution_count": 2,
   "id": "79908645-5585-42cb-b5a7-e115918f920b",
   "metadata": {},
   "outputs": [
    {
     "data": {
      "text/html": [
       "<div>\n",
       "<style scoped>\n",
       "    .dataframe tbody tr th:only-of-type {\n",
       "        vertical-align: middle;\n",
       "    }\n",
       "\n",
       "    .dataframe tbody tr th {\n",
       "        vertical-align: top;\n",
       "    }\n",
       "\n",
       "    .dataframe thead th {\n",
       "        text-align: right;\n",
       "    }\n",
       "</style>\n",
       "<table border=\"1\" class=\"dataframe\">\n",
       "  <thead>\n",
       "    <tr style=\"text-align: right;\">\n",
       "      <th></th>\n",
       "      <th>name</th>\n",
       "      <th>age</th>\n",
       "      <th>score</th>\n",
       "      <th>date</th>\n",
       "    </tr>\n",
       "  </thead>\n",
       "  <tbody>\n",
       "    <tr>\n",
       "      <th>0</th>\n",
       "      <td>Alice</td>\n",
       "      <td>25</td>\n",
       "      <td>88.5</td>\n",
       "      <td>2025-02-03</td>\n",
       "    </tr>\n",
       "    <tr>\n",
       "      <th>1</th>\n",
       "      <td>Bob</td>\n",
       "      <td>30</td>\n",
       "      <td>92.0</td>\n",
       "      <td>NaT</td>\n",
       "    </tr>\n",
       "    <tr>\n",
       "      <th>2</th>\n",
       "      <td>Carol</td>\n",
       "      <td>27</td>\n",
       "      <td>79.5</td>\n",
       "      <td>NaT</td>\n",
       "    </tr>\n",
       "  </tbody>\n",
       "</table>\n",
       "</div>"
      ],
      "text/plain": [
       "    name  age  score       date\n",
       "0  Alice   25   88.5 2025-02-03\n",
       "1    Bob   30   92.0        NaT\n",
       "2  Carol   27   79.5        NaT"
      ]
     },
     "execution_count": 2,
     "metadata": {},
     "output_type": "execute_result"
    }
   ],
   "source": [
    "pd.read_excel(\"data_xlsx.xlsx\")"
   ]
  },
  {
   "cell_type": "code",
   "execution_count": 3,
   "id": "a9ac1494-d9e7-4b84-97f0-480553a55438",
   "metadata": {},
   "outputs": [
    {
     "data": {
      "text/plain": [
       "{'Sheet1':     name  age  score       date\n",
       " 0  Alice   25   88.5 2025-02-03\n",
       " 1    Bob   30   92.0        NaT\n",
       " 2  Carol   27   79.5        NaT}"
      ]
     },
     "execution_count": 3,
     "metadata": {},
     "output_type": "execute_result"
    }
   ],
   "source": [
    "pd.read_excel(\"data_xlsx.xlsx\", sheet_name=['Sheet1'])"
   ]
  },
  {
   "cell_type": "code",
   "execution_count": 4,
   "id": "c9c16809-7eb0-4f91-9e96-6101b5dd8d5c",
   "metadata": {},
   "outputs": [],
   "source": [
    "dfs = pd.read_excel(\"data_xlsx.xlsx\", sheet_name=['Sheet1', 'Sheet2'])"
   ]
  },
  {
   "cell_type": "code",
   "execution_count": 5,
   "id": "ee79fcb8-61d4-41c8-9f52-c9a5a7ab32f7",
   "metadata": {},
   "outputs": [],
   "source": [
    "df2 = dfs['Sheet2']"
   ]
  },
  {
   "cell_type": "code",
   "execution_count": 6,
   "id": "d88e1fdb-4586-4ec6-b64b-594437ef73e3",
   "metadata": {},
   "outputs": [
    {
     "name": "stdout",
     "output_type": "stream",
     "text": [
      "    name  age\n",
      "0  Alice   25\n",
      "1    Bob   30\n",
      "2  Carol   27\n"
     ]
    }
   ],
   "source": [
    "print(df2)"
   ]
  },
  {
   "cell_type": "code",
   "execution_count": 7,
   "id": "d4abc7d0-201c-4910-8260-d8851ec03097",
   "metadata": {},
   "outputs": [],
   "source": [
    "df2.to_excel(\"output_xlsx.xlsx\", sheet_name=\"Results\")"
   ]
  },
  {
   "cell_type": "code",
   "execution_count": null,
   "id": "6eb7c472-c48b-4a81-a000-6f855f1f6f9c",
   "metadata": {},
   "outputs": [],
   "source": []
  }
 ],
 "metadata": {
  "kernelspec": {
   "display_name": "Python 3 (ipykernel)",
   "language": "python",
   "name": "python3"
  },
  "language_info": {
   "codemirror_mode": {
    "name": "ipython",
    "version": 3
   },
   "file_extension": ".py",
   "mimetype": "text/x-python",
   "name": "python",
   "nbconvert_exporter": "python",
   "pygments_lexer": "ipython3",
   "version": "3.13.1"
  }
 },
 "nbformat": 4,
 "nbformat_minor": 5
}
