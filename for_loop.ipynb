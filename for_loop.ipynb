{
 "cells": [
  {
   "cell_type": "code",
   "execution_count": 10,
   "id": "665a0bd9-22d3-4df9-a55d-328849537252",
   "metadata": {},
   "outputs": [
    {
     "name": "stdout",
     "output_type": "stream",
     "text": [
      "<class 'int'>\n",
      "1\n"
     ]
    }
   ],
   "source": [
    "_tuple = (1)\n",
    "print(type(_tuple))\n",
    "print(_tuple)"
   ]
  },
  {
   "cell_type": "code",
   "execution_count": 31,
   "id": "694ce3c4-3d2f-4ddd-ada5-58050c80a70b",
   "metadata": {},
   "outputs": [
    {
     "name": "stdout",
     "output_type": "stream",
     "text": [
      "{'name': 'zubair'}\n"
     ]
    }
   ],
   "source": [
    "_dict = {\"name\": \"zubair\",\"age\":12}\n",
    "print(_dict)"
   ]
  },
  {
   "cell_type": "code",
   "execution_count": 21,
   "id": "f27b2561-9f3f-49c3-ad93-a527de1393aa",
   "metadata": {},
   "outputs": [
    {
     "name": "stdout",
     "output_type": "stream",
     "text": [
      "Nothing here\n",
      "True\n",
      "Nothing here\n",
      "True\n"
     ]
    }
   ],
   "source": [
    "for i in names:\n",
    "    if i == \"khan\":\n",
    "        print(\"True\")\n",
    "    else:\n",
    "        print(\"Nothing here\")\n",
    "    # print(\"Name\", i)"
   ]
  },
  {
   "cell_type": "code",
   "execution_count": 58,
   "id": "4f3b1e79-bc85-4291-9bf9-681c9c74174f",
   "metadata": {},
   "outputs": [
    {
     "name": "stdout",
     "output_type": "stream",
     "text": [
      "['zubair', 'khan', 'Uzair', 'khan']\n",
      "['SAAD', 'khan', 'Uzair', 'khan']\n"
     ]
    }
   ],
   "source": [
    "names = [\"zubair\", \"khan\", \"Uzair\", \"khan\"]\n",
    "print(names)\n",
    "names[0] = \"SAAD\"\n",
    "print(names)"
   ]
  },
  {
   "cell_type": "code",
   "execution_count": 52,
   "id": "476a7184-d888-439c-8853-cec20f828a72",
   "metadata": {},
   "outputs": [
    {
     "name": "stdout",
     "output_type": "stream",
     "text": [
      "zubair\n",
      "khan\n",
      "Uzair\n",
      "khan\n"
     ]
    }
   ],
   "source": [
    "for i in names:\n",
    "    print(i)"
   ]
  },
  {
   "cell_type": "code",
   "execution_count": 35,
   "id": "21ce3f2e-76c3-494b-b299-737a33ce4f6b",
   "metadata": {},
   "outputs": [
    {
     "name": "stdout",
     "output_type": "stream",
     "text": [
      "1\n",
      "3\n",
      "5\n",
      "7\n",
      "9\n",
      "25\n"
     ]
    }
   ],
   "source": [
    "_sum = []\n",
    "for i in range(1, 11, 2):\n",
    "    print(i)\n",
    "    _sum.append(i)\n",
    "print(sum(_sum))\n"
   ]
  },
  {
   "cell_type": "code",
   "execution_count": 7,
   "id": "b568c37a-b4f9-48b6-9f3c-b0db33a38375",
   "metadata": {},
   "outputs": [
    {
     "name": "stdout",
     "output_type": "stream",
     "text": [
      "2 x 1 = 2\n",
      "2 x 2 = 4\n",
      "2 x 3 = 6\n",
      "2 x 4 = 8\n",
      "2 x 5 = 10\n",
      "2 x 6 = 12\n",
      "2 x 7 = 14\n",
      "2 x 8 = 16\n",
      "2 x 9 = 18\n",
      "2 x 10 = 20\n",
      "\n",
      "3 x 1 = 3\n",
      "3 x 2 = 6\n",
      "3 x 3 = 9\n",
      "3 x 4 = 12\n",
      "3 x 5 = 15\n",
      "3 x 6 = 18\n",
      "3 x 7 = 21\n",
      "3 x 8 = 24\n",
      "3 x 9 = 27\n",
      "3 x 10 = 30\n",
      "\n",
      "4 x 1 = 4\n",
      "4 x 2 = 8\n",
      "4 x 3 = 12\n",
      "4 x 4 = 16\n",
      "4 x 5 = 20\n",
      "4 x 6 = 24\n",
      "4 x 7 = 28\n",
      "4 x 8 = 32\n",
      "4 x 9 = 36\n",
      "4 x 10 = 40\n",
      "\n",
      "5 x 1 = 5\n",
      "5 x 2 = 10\n",
      "5 x 3 = 15\n",
      "5 x 4 = 20\n",
      "5 x 5 = 25\n",
      "5 x 6 = 30\n",
      "5 x 7 = 35\n",
      "5 x 8 = 40\n",
      "5 x 9 = 45\n",
      "5 x 10 = 50\n",
      "\n"
     ]
    }
   ],
   "source": [
    "for table in range(2, 6):\n",
    "    for i in range(1, 11):\n",
    "        print(f\"{table} x {i} =\", i * table)    \n",
    "    print()"
   ]
  },
  {
   "cell_type": "code",
   "execution_count": null,
   "id": "40afc139-eeac-457c-814a-113e93f5e673",
   "metadata": {},
   "outputs": [],
   "source": []
  },
  {
   "cell_type": "code",
   "execution_count": 1,
   "id": "36fbb6b7-ce0a-4018-b0cd-b95d069f5fcb",
   "metadata": {},
   "outputs": [
    {
     "name": "stdout",
     "output_type": "stream",
     "text": [
      "1\n",
      "6\n"
     ]
    }
   ],
   "source": [
    "for i in range(1,10,5):\n",
    "    print(i)"
   ]
  },
  {
   "cell_type": "code",
   "execution_count": null,
   "id": "8f9055ea-132f-4341-b8e6-070dbd1ec3d3",
   "metadata": {},
   "outputs": [],
   "source": []
  }
 ],
 "metadata": {
  "kernelspec": {
   "display_name": "Python 3 (ipykernel)",
   "language": "python",
   "name": "python3"
  },
  "language_info": {
   "codemirror_mode": {
    "name": "ipython",
    "version": 3
   },
   "file_extension": ".py",
   "mimetype": "text/x-python",
   "name": "python",
   "nbconvert_exporter": "python",
   "pygments_lexer": "ipython3",
   "version": "3.13.1"
  }
 },
 "nbformat": 4,
 "nbformat_minor": 5
}
