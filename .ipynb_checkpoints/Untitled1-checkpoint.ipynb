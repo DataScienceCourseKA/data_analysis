{
 "cells": [
  {
   "cell_type": "code",
   "execution_count": 2,
   "id": "9f417292-4f18-45a3-b331-1759bc5cdb50",
   "metadata": {},
   "outputs": [],
   "source": [
    "name = \"Khan\""
   ]
  },
  {
   "cell_type": "code",
   "execution_count": 3,
   "id": "16d84594-de97-43d4-a34c-7700935be790",
   "metadata": {},
   "outputs": [
    {
     "name": "stdout",
     "output_type": "stream",
     "text": [
      "n\n"
     ]
    }
   ],
   "source": [
    "print(name[3])"
   ]
  },
  {
   "cell_type": "code",
   "execution_count": 13,
   "id": "0e545229-f283-417f-bf63-1a32662dcb3d",
   "metadata": {},
   "outputs": [
    {
     "name": "stdout",
     "output_type": "stream",
     "text": [
      "nahK\n"
     ]
    }
   ],
   "source": [
    "print(name[3::-1])"
   ]
  },
  {
   "cell_type": "code",
   "execution_count": 40,
   "id": "75a77347-f518-4d20-a797-941a1b74b4da",
   "metadata": {},
   "outputs": [
    {
     "name": "stdout",
     "output_type": "stream",
     "text": [
      "['zubair', 'khan', 'Uzair']\n"
     ]
    }
   ],
   "source": [
    "names = [\"zubair\", \"khan\", \"Uzair\",\"SAJJAD\",\"SAAD\"]\n",
    "print(names[:3])"
   ]
  },
  {
   "cell_type": "code",
   "execution_count": 24,
   "id": "c8488a47-c7f1-450f-8ccb-bb8439515c14",
   "metadata": {},
   "outputs": [
    {
     "name": "stdout",
     "output_type": "stream",
     "text": [
      "7\n"
     ]
    }
   ],
   "source": [
    "def add(a, b):\n",
    "    return a + b\n",
    "\n",
    "print(add(2, 5))"
   ]
  },
  {
   "cell_type": "code",
   "execution_count": 29,
   "id": "7d3d71e1-9f35-4775-8208-db26e19bd2a4",
   "metadata": {},
   "outputs": [
    {
     "name": "stdout",
     "output_type": "stream",
     "text": [
      "-3\n"
     ]
    }
   ],
   "source": [
    "def subtract(a, b):\n",
    "    return a - b\n",
    "\n",
    "print(subtract(2, 5))"
   ]
  },
  {
   "cell_type": "code",
   "execution_count": 32,
   "id": "bedd2237-b40a-4dc0-ba8d-0c6f46b6e83b",
   "metadata": {},
   "outputs": [
    {
     "name": "stdout",
     "output_type": "stream",
     "text": [
      "200\n"
     ]
    }
   ],
   "source": [
    "def multiply():\n",
    "    a = 10\n",
    "    b = 20\n",
    "    print(a/b)\n",
    "    \n",
    "multiply()"
   ]
  },
  {
   "cell_type": "code",
   "execution_count": null,
   "id": "4e74d72b-47cc-4267-8f90-f47f131ce6f1",
   "metadata": {},
   "outputs": [],
   "source": []
  }
 ],
 "metadata": {
  "kernelspec": {
   "display_name": "Python 3 (ipykernel)",
   "language": "python",
   "name": "python3"
  },
  "language_info": {
   "codemirror_mode": {
    "name": "ipython",
    "version": 3
   },
   "file_extension": ".py",
   "mimetype": "text/x-python",
   "name": "python",
   "nbconvert_exporter": "python",
   "pygments_lexer": "ipython3",
   "version": "3.13.1"
  }
 },
 "nbformat": 4,
 "nbformat_minor": 5
}
