{
 "cells": [
  {
   "cell_type": "code",
   "execution_count": 1,
   "id": "0277750e-a1a7-4a05-a548-b33002c65bc1",
   "metadata": {},
   "outputs": [
    {
     "name": "stdout",
     "output_type": "stream",
     "text": [
      "Hellow World\n"
     ]
    }
   ],
   "source": [
    "print(\"Hellow World\")"
   ]
  },
  {
   "cell_type": "code",
   "execution_count": 15,
   "id": "ec7a8a82-06dc-417a-b4d0-b5a1f2d7b5c5",
   "metadata": {},
   "outputs": [],
   "source": [
    "_string = \"string\"\n",
    "_integer = \"10\"\n",
    "_float = 1.52\n",
    "_boolean = True"
   ]
  },
  {
   "cell_type": "code",
   "execution_count": 9,
   "id": "9e5be3c9-970b-40e4-a263-380239abd072",
   "metadata": {},
   "outputs": [
    {
     "name": "stdout",
     "output_type": "stream",
     "text": [
      "string\n"
     ]
    }
   ],
   "source": [
    "print(_string)"
   ]
  },
  {
   "cell_type": "code",
   "execution_count": 11,
   "id": "9b8bf90c-4afa-4caa-aded-3922ed502a5e",
   "metadata": {},
   "outputs": [
    {
     "name": "stdout",
     "output_type": "stream",
     "text": [
      "string 1.52\n"
     ]
    }
   ],
   "source": [
    "print(_string, _float )"
   ]
  },
  {
   "cell_type": "code",
   "execution_count": 12,
   "id": "f6e714f7-eacc-45a8-8133-47b0f27899a4",
   "metadata": {},
   "outputs": [
    {
     "name": "stdout",
     "output_type": "stream",
     "text": [
      "stringinteger\n"
     ]
    }
   ],
   "source": [
    "print(_string + _integer)"
   ]
  },
  {
   "cell_type": "code",
   "execution_count": 16,
   "id": "641ecb77-4b38-4ecc-849b-c46767509fbd",
   "metadata": {},
   "outputs": [
    {
     "name": "stdout",
     "output_type": "stream",
     "text": [
      "10\n"
     ]
    }
   ],
   "source": [
    "print(_integer)"
   ]
  },
  {
   "cell_type": "code",
   "execution_count": 18,
   "id": "ca102a24-00fa-4d0a-ba39-9b424a97fc35",
   "metadata": {},
   "outputs": [
    {
     "name": "stdout",
     "output_type": "stream",
     "text": [
      "10\n"
     ]
    }
   ],
   "source": [
    "print(int(_integer))"
   ]
  },
  {
   "cell_type": "code",
   "execution_count": 22,
   "id": "bb3a9e00-54c8-4865-b8f1-a396df794924",
   "metadata": {},
   "outputs": [
    {
     "name": "stdout",
     "output_type": "stream",
     "text": [
      "11.52\n"
     ]
    }
   ],
   "source": [
    "print(int(_integer) + _float)"
   ]
  },
  {
   "cell_type": "code",
   "execution_count": 1,
   "id": "5f5f0830-651c-4d57-be5f-f36436276b8e",
   "metadata": {},
   "outputs": [
    {
     "name": "stdout",
     "output_type": "stream",
     "text": [
      "Excellent\n"
     ]
    }
   ],
   "source": [
    "score = 95\n",
    "if score >= 90:\n",
    "    print(\"Excellent\")"
   ]
  },
  {
   "cell_type": "code",
   "execution_count": 13,
   "id": "f3abebd4-ca64-4357-92a5-25af22cac395",
   "metadata": {},
   "outputs": [
    {
     "name": "stdin",
     "output_type": "stream",
     "text": [
      "Enter your age here:  15\n"
     ]
    },
    {
     "name": "stdout",
     "output_type": "stream",
     "text": [
      "Kid\n"
     ]
    }
   ],
   "source": [
    "age = int(input(\"Enter your age here: \"))\n",
    "if age <= 0:\n",
    "    print(f\"Wrong age {age}\")\n",
    "elif age >= 90:\n",
    "    print(f\"very old {age}\")\n",
    "elif age >= 50:\n",
    "    print(f\"old {age}\")\n",
    "elif age >= 20:\n",
    "    print(f\"Young {age}\")\n",
    "else:\n",
    "    print(\"Kid\")"
   ]
  },
  {
   "cell_type": "code",
   "execution_count": 31,
   "id": "ff8e7cea-a635-4de5-b0e1-c4e1b8dfb4f1",
   "metadata": {},
   "outputs": [
    {
     "name": "stdin",
     "output_type": "stream",
     "text": [
      "Enter the number here: 5\n"
     ]
    },
    {
     "name": "stdout",
     "output_type": "stream",
     "text": [
      "5\n"
     ]
    }
   ],
   "source": [
    "user_input = input(\"Enter the number here:\")\n",
    "print(user_input)"
   ]
  },
  {
   "cell_type": "code",
   "execution_count": 9,
   "id": "8bcd2e58-1bb5-485b-b011-656529600aea",
   "metadata": {},
   "outputs": [
    {
     "name": "stdin",
     "output_type": "stream",
     "text": [
      "Enter the number here: 45\n"
     ]
    },
    {
     "name": "stdout",
     "output_type": "stream",
     "text": [
      "pass\n"
     ]
    }
   ],
   "source": [
    "grade = int(input(\"Enter the number here:\"))\n",
    "if grade >= 30 or grade <= 40:\n",
    "    print(\"pass\")\n",
    "elif grade >= 50:\n",
    "    print(\"very good\")\n",
    "else:\n",
    "    print(\"fail\")"
   ]
  },
  {
   "cell_type": "code",
   "execution_count": null,
   "id": "9293c595-17e7-427f-8619-08c2c29d4c1f",
   "metadata": {},
   "outputs": [],
   "source": []
  }
 ],
 "metadata": {
  "kernelspec": {
   "display_name": "Python 3 (ipykernel)",
   "language": "python",
   "name": "python3"
  },
  "language_info": {
   "codemirror_mode": {
    "name": "ipython",
    "version": 3
   },
   "file_extension": ".py",
   "mimetype": "text/x-python",
   "name": "python",
   "nbconvert_exporter": "python",
   "pygments_lexer": "ipython3",
   "version": "3.13.1"
  }
 },
 "nbformat": 4,
 "nbformat_minor": 5
}
