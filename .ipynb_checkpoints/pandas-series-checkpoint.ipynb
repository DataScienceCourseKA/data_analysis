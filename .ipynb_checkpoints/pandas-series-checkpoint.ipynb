{
 "cells": [
  {
   "cell_type": "code",
   "execution_count": 20,
   "id": "165784ae-b7d3-4fca-844a-fa51f9bca4ed",
   "metadata": {},
   "outputs": [],
   "source": [
    "import pandas as pd"
   ]
  },
  {
   "cell_type": "code",
   "execution_count": 21,
   "id": "9261bc5a-7926-486d-bfe1-7263ae78b9cc",
   "metadata": {},
   "outputs": [],
   "source": [
    "s1 = pd.Series([100, 200, 300])"
   ]
  },
  {
   "cell_type": "code",
   "execution_count": 22,
   "id": "7c012fb9-fdc9-4205-bb36-33f7218f5826",
   "metadata": {},
   "outputs": [
    {
     "name": "stdout",
     "output_type": "stream",
     "text": [
      "0    100\n",
      "1    200\n",
      "2    300\n",
      "dtype: int64\n"
     ]
    }
   ],
   "source": [
    "print(s1)"
   ]
  },
  {
   "cell_type": "code",
   "execution_count": 23,
   "id": "e697f5e3-6fd1-49b7-97d9-7c91c07c1522",
   "metadata": {},
   "outputs": [],
   "source": [
    "s2 = pd.Series([100, 200, 300], index=['a', 'b', 'c'])"
   ]
  },
  {
   "cell_type": "code",
   "execution_count": 24,
   "id": "17081f9f-2d80-43b0-b300-dac6f46c3844",
   "metadata": {},
   "outputs": [
    {
     "name": "stdout",
     "output_type": "stream",
     "text": [
      "a    100\n",
      "b    200\n",
      "c    300\n",
      "dtype: int64\n"
     ]
    }
   ],
   "source": [
    "print(s2)"
   ]
  },
  {
   "cell_type": "code",
   "execution_count": 25,
   "id": "99d30ea8-44a9-4877-a058-6bf77f97e800",
   "metadata": {},
   "outputs": [],
   "source": [
    "s3 = pd.Series({'x': 9, 'y': 8.1, 'z': 7})"
   ]
  },
  {
   "cell_type": "code",
   "execution_count": 26,
   "id": "a8abeae6-e1ef-4ceb-a543-410c8989ac94",
   "metadata": {},
   "outputs": [
    {
     "name": "stdout",
     "output_type": "stream",
     "text": [
      "x    9.0\n",
      "y    8.1\n",
      "z    7.0\n",
      "dtype: float64\n"
     ]
    }
   ],
   "source": [
    "print(s3)"
   ]
  },
  {
   "cell_type": "code",
   "execution_count": 27,
   "id": "db3f9e64-de85-411e-8218-b6c41a9349c4",
   "metadata": {},
   "outputs": [
    {
     "name": "stdout",
     "output_type": "stream",
     "text": [
      "Index(['a', 'b', 'c'], dtype='object')\n"
     ]
    }
   ],
   "source": [
    "print(s2.index)"
   ]
  },
  {
   "cell_type": "code",
   "execution_count": 28,
   "id": "735a97a2-1737-4ebf-9c9a-7c5382235796",
   "metadata": {},
   "outputs": [
    {
     "name": "stdout",
     "output_type": "stream",
     "text": [
      "[100 200 300]\n"
     ]
    }
   ],
   "source": [
    "print(s2.values)"
   ]
  },
  {
   "cell_type": "code",
   "execution_count": 29,
   "id": "fbc25e1b-c204-40f1-8d3b-cc89e750edee",
   "metadata": {},
   "outputs": [
    {
     "name": "stdout",
     "output_type": "stream",
     "text": [
      "int64\n"
     ]
    }
   ],
   "source": [
    "print(s2.dtype)"
   ]
  },
  {
   "cell_type": "code",
   "execution_count": 30,
   "id": "4f904b25-b191-44a4-87fb-e0f5a1211758",
   "metadata": {},
   "outputs": [
    {
     "name": "stdout",
     "output_type": "stream",
     "text": [
      "None\n"
     ]
    }
   ],
   "source": [
    "print(s2.name)"
   ]
  },
  {
   "cell_type": "code",
   "execution_count": 31,
   "id": "822e7f2f-d88d-4d08-97f3-43ce392e5dee",
   "metadata": {},
   "outputs": [
    {
     "name": "stdout",
     "output_type": "stream",
     "text": [
      "a    100\n",
      "b    200\n",
      "dtype: int64\n"
     ]
    }
   ],
   "source": [
    "print(s2.head(2))"
   ]
  },
  {
   "cell_type": "code",
   "execution_count": 33,
   "id": "a53e52d5-b1bd-4b36-bb9f-57e7233f871b",
   "metadata": {},
   "outputs": [
    {
     "name": "stdout",
     "output_type": "stream",
     "text": [
      "c    300\n",
      "dtype: int64\n"
     ]
    }
   ],
   "source": [
    "print(s2.tail(1))"
   ]
  },
  {
   "cell_type": "code",
   "execution_count": null,
   "id": "e6912a04-1e3e-4a07-bde6-209d61e1a605",
   "metadata": {},
   "outputs": [],
   "source": []
  }
 ],
 "metadata": {
  "kernelspec": {
   "display_name": "Python 3 (ipykernel)",
   "language": "python",
   "name": "python3"
  },
  "language_info": {
   "codemirror_mode": {
    "name": "ipython",
    "version": 3
   },
   "file_extension": ".py",
   "mimetype": "text/x-python",
   "name": "python",
   "nbconvert_exporter": "python",
   "pygments_lexer": "ipython3",
   "version": "3.13.1"
  }
 },
 "nbformat": 4,
 "nbformat_minor": 5
}
